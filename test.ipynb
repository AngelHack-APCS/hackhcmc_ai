{
 "cells": [
  {
   "cell_type": "code",
   "execution_count": 9,
   "metadata": {},
   "outputs": [
    {
     "name": "stderr",
     "output_type": "stream",
     "text": [
      "/tmp/ipykernel_104020/55268620.py:12: DeprecationWarning: Due to a bug, this method doesn't actually stream the response content, `.with_streaming_response.method()` should be used instead\n",
      "  response.stream_to_file(speech_file_path)\n"
     ]
    }
   ],
   "source": [
    "from pathlib import Path\n",
    "from openai import OpenAI\n",
    "client = OpenAI()\n",
    "\n",
    "speech_file_path = \"./speech.mp3\"\n",
    "response = client.audio.speech.create(\n",
    "  model=\"tts-1\",\n",
    "  voice=\"nova\",\n",
    "  input=\"Chào bạn! Rất vui được gặp bạn đây. Bạn cần trò chuyện về điều gì ạ? Hay có câu hỏi gì mà bạn muốn hỏi không?\"\n",
    ")\n",
    "\n",
    "response.stream_to_file(speech_file_path)"
   ]
  },
  {
   "cell_type": "code",
   "execution_count": 1,
   "metadata": {},
   "outputs": [
    {
     "data": {
      "text/plain": [
       "CompletionResponse(text='Hello! How can I assist you today?', additional_kwargs={}, raw={'id': 'chatcmpl-9fbv1S5UeFIROk8Z01V1Hga4AGiyy', 'choices': [Choice(finish_reason='stop', index=0, logprobs=None, message=ChatCompletionMessage(content='Hello! How can I assist you today?', role='assistant', function_call=None, tool_calls=None))], 'created': 1719704235, 'model': 'gpt-4o-2024-05-13', 'object': 'chat.completion', 'service_tier': None, 'system_fingerprint': 'fp_ce0793330f', 'usage': CompletionUsage(completion_tokens=9, prompt_tokens=9, total_tokens=18)}, logprobs=None, delta=None)"
      ]
     },
     "execution_count": 1,
     "metadata": {},
     "output_type": "execute_result"
    }
   ],
   "source": [
    "from llama_index.llms.openai import OpenAI\n",
    "import dotenv\n",
    "import os\n",
    "dotenv.load_dotenv(override=True)\n",
    "\n",
    "llm = OpenAI(api_key=os.getenv(\"OPENAI_API_KEY\"), model=\"gpt-4o\")\n",
    "llm.complete(\"Hi!\")"
   ]
  },
  {
   "cell_type": "code",
   "execution_count": 3,
   "metadata": {},
   "outputs": [],
   "source": [
    "from PIL import Image\n",
    "\n",
    "# Open the images\n",
    "image1 = Image.open(\"./assets/Capy-1-removebg-preview.png\")\n",
    "image2 = Image.open(\"./assets/Capy-2-removebg-preview.png\")\n",
    "\n",
    "# List of images\n",
    "images = [image1, image2]\n",
    "\n",
    "# Save as GIF\n",
    "image1.save(\"animated.gif\", save_all=True, append_images=images[1:], duration=200, loop=0)"
   ]
  },
  {
   "cell_type": "code",
   "execution_count": null,
   "metadata": {},
   "outputs": [],
   "source": []
  }
 ],
 "metadata": {
  "kernelspec": {
   "display_name": "poc-llm",
   "language": "python",
   "name": "python3"
  },
  "language_info": {
   "codemirror_mode": {
    "name": "ipython",
    "version": 3
   },
   "file_extension": ".py",
   "mimetype": "text/x-python",
   "name": "python",
   "nbconvert_exporter": "python",
   "pygments_lexer": "ipython3",
   "version": "3.12.3"
  }
 },
 "nbformat": 4,
 "nbformat_minor": 2
}
